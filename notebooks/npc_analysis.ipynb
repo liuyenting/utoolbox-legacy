{
 "cells": [
  {
   "cell_type": "code",
   "execution_count": 25,
   "metadata": {},
   "outputs": [],
   "source": [
    "import os\n",
    "\n",
    "import numpy as np\n",
    "import pandas as pd\n",
    "import matplotlib.pyplot as plt"
   ]
  },
  {
   "cell_type": "markdown",
   "metadata": {},
   "source": [
    "#### Read data from ThunderSTORM CSV"
   ]
  },
  {
   "cell_type": "code",
   "execution_count": 4,
   "metadata": {},
   "outputs": [],
   "source": [
    "file_path = os.path.join('data', '20171204_NPC', 'part1_corrected.csv')"
   ]
  },
  {
   "cell_type": "code",
   "execution_count": 5,
   "metadata": {},
   "outputs": [],
   "source": [
    "data = pd.read_csv(file_path)"
   ]
  },
  {
   "cell_type": "markdown",
   "metadata": {},
   "source": [
    "Statistics"
   ]
  },
  {
   "cell_type": "code",
   "execution_count": 7,
   "metadata": {},
   "outputs": [
    {
     "name": "stdout",
     "output_type": "stream",
     "text": [
      "4512224 particles\n",
      "700 frames\n"
     ]
    }
   ],
   "source": [
    "print(\"{} particles\".format(len(data)))\n",
    "print(\"{} frames\".format(max(data['frame'])))"
   ]
  },
  {
   "cell_type": "code",
   "execution_count": 8,
   "metadata": {},
   "outputs": [
    {
     "data": {
      "text/html": [
       "<div>\n",
       "<style scoped>\n",
       "    .dataframe tbody tr th:only-of-type {\n",
       "        vertical-align: middle;\n",
       "    }\n",
       "\n",
       "    .dataframe tbody tr th {\n",
       "        vertical-align: top;\n",
       "    }\n",
       "\n",
       "    .dataframe thead th {\n",
       "        text-align: right;\n",
       "    }\n",
       "</style>\n",
       "<table border=\"1\" class=\"dataframe\">\n",
       "  <thead>\n",
       "    <tr style=\"text-align: right;\">\n",
       "      <th></th>\n",
       "      <th>id</th>\n",
       "      <th>frame</th>\n",
       "      <th>x [nm]</th>\n",
       "      <th>y [nm]</th>\n",
       "      <th>z [nm]</th>\n",
       "      <th>sigma1 [nm]</th>\n",
       "      <th>sigma2 [nm]</th>\n",
       "      <th>intensity [nm]</th>\n",
       "      <th>uncertainty_xy [nm]</th>\n",
       "      <th>uncertainty_z [nm]</th>\n",
       "    </tr>\n",
       "  </thead>\n",
       "  <tbody>\n",
       "    <tr>\n",
       "      <th>0</th>\n",
       "      <td>1</td>\n",
       "      <td>1</td>\n",
       "      <td>1088.9</td>\n",
       "      <td>46574.4</td>\n",
       "      <td>18387.6</td>\n",
       "      <td>255.8</td>\n",
       "      <td>206.7</td>\n",
       "      <td>2169.5</td>\n",
       "      <td>29.4</td>\n",
       "      <td>1356.6</td>\n",
       "    </tr>\n",
       "    <tr>\n",
       "      <th>1</th>\n",
       "      <td>2</td>\n",
       "      <td>1</td>\n",
       "      <td>2135.1</td>\n",
       "      <td>54802.9</td>\n",
       "      <td>20010.8</td>\n",
       "      <td>156.3</td>\n",
       "      <td>255.7</td>\n",
       "      <td>1500.4</td>\n",
       "      <td>30.4</td>\n",
       "      <td>1609.1</td>\n",
       "    </tr>\n",
       "    <tr>\n",
       "      <th>2</th>\n",
       "      <td>3</td>\n",
       "      <td>1</td>\n",
       "      <td>3502.3</td>\n",
       "      <td>33028.5</td>\n",
       "      <td>19600.4</td>\n",
       "      <td>158.1</td>\n",
       "      <td>204.1</td>\n",
       "      <td>2005.5</td>\n",
       "      <td>22.4</td>\n",
       "      <td>496.3</td>\n",
       "    </tr>\n",
       "    <tr>\n",
       "      <th>3</th>\n",
       "      <td>4</td>\n",
       "      <td>1</td>\n",
       "      <td>3492.3</td>\n",
       "      <td>34374.5</td>\n",
       "      <td>18143.0</td>\n",
       "      <td>292.3</td>\n",
       "      <td>235.2</td>\n",
       "      <td>3292.6</td>\n",
       "      <td>24.2</td>\n",
       "      <td>3207.2</td>\n",
       "    </tr>\n",
       "    <tr>\n",
       "      <th>4</th>\n",
       "      <td>5</td>\n",
       "      <td>1</td>\n",
       "      <td>4304.3</td>\n",
       "      <td>49598.5</td>\n",
       "      <td>19722.3</td>\n",
       "      <td>155.9</td>\n",
       "      <td>216.7</td>\n",
       "      <td>1531.7</td>\n",
       "      <td>23.4</td>\n",
       "      <td>625.7</td>\n",
       "    </tr>\n",
       "  </tbody>\n",
       "</table>\n",
       "</div>"
      ],
      "text/plain": [
       "   id  frame  x [nm]   y [nm]   z [nm]  sigma1 [nm]  sigma2 [nm]  \\\n",
       "0   1      1  1088.9  46574.4  18387.6        255.8        206.7   \n",
       "1   2      1  2135.1  54802.9  20010.8        156.3        255.7   \n",
       "2   3      1  3502.3  33028.5  19600.4        158.1        204.1   \n",
       "3   4      1  3492.3  34374.5  18143.0        292.3        235.2   \n",
       "4   5      1  4304.3  49598.5  19722.3        155.9        216.7   \n",
       "\n",
       "   intensity [nm]  uncertainty_xy [nm]  uncertainty_z [nm]  \n",
       "0          2169.5                 29.4              1356.6  \n",
       "1          1500.4                 30.4              1609.1  \n",
       "2          2005.5                 22.4               496.3  \n",
       "3          3292.6                 24.2              3207.2  \n",
       "4          1531.7                 23.4               625.7  "
      ]
     },
     "execution_count": 8,
     "metadata": {},
     "output_type": "execute_result"
    }
   ],
   "source": [
    "data[0:5]"
   ]
  },
  {
   "cell_type": "code",
   "execution_count": 12,
   "metadata": {},
   "outputs": [
    {
     "data": {
      "image/png": "[encoded data removed]",
      "text/plain": [
       "<matplotlib.figure.Figure at 0x11e6951d0>"
      ]
     },
     "metadata": {},
     "output_type": "display_data"
    }
   ],
   "source": [
    "fig = plt.figure()\n",
    "\n",
    "ax = plt.subplot(\"131\")\n",
    "ax.set_title(\"XY\")\n",
    "ax.scatter(data['x [nm]'], data['y [nm]'], s=1, marker='.')\n",
    "\n",
    "ax = plt.subplot(\"132\")\n",
    "ax.set_title(\"XZ\")\n",
    "ax.scatter(data['x [nm]'], data['z [nm]'], s=1, marker='.')\n",
    "\n",
    "ax = plt.subplot(\"133\")\n",
    "ax.set_title(\"YZ\")\n",
    "ax.scatter(data['y [nm]'], data['z [nm]'], s=1, marker='.')\n",
    "\n",
    "plt.show()"
   ]
  },
  {
   "cell_type": "markdown",
   "metadata": {},
   "source": [
    "#### Down sampling"
   ]
  },
  {
   "cell_type": "code",
   "execution_count": 26,
   "metadata": {},
   "outputs": [],
   "source": [
    "factor = 4"
   ]
  },
  {
   "cell_type": "code",
   "execution_count": 27,
   "metadata": {},
   "outputs": [],
   "source": [
    "factor = 2**factor"
   ]
  },
  {
   "cell_type": "code",
   "execution_count": 28,
   "metadata": {},
   "outputs": [],
   "source": [
    "xmax, ymax, zmax = data[['x [nm]', 'y [nm]', 'z [nm]']].max()\n",
    "xmin, ymin, zmin = data[['x [nm]', 'y [nm]', 'z [nm]']].min()"
   ]
  },
  {
   "cell_type": "code",
   "execution_count": 29,
   "metadata": {},
   "outputs": [
    {
     "name": "stderr",
     "output_type": "stream",
     "text": [
      "/Users/Andy/.conda/envs/utoolbox/lib/python3.6/site-packages/ipykernel_launcher.py:1: DeprecationWarning: object of type <class 'float'> cannot be safely interpreted as an integer.\n",
      "  \"\"\"Entry point for launching an IPython kernel.\n",
      "/Users/Andy/.conda/envs/utoolbox/lib/python3.6/site-packages/ipykernel_launcher.py:2: DeprecationWarning: object of type <class 'float'> cannot be safely interpreted as an integer.\n",
      "  \n",
      "/Users/Andy/.conda/envs/utoolbox/lib/python3.6/site-packages/ipykernel_launcher.py:3: DeprecationWarning: object of type <class 'float'> cannot be safely interpreted as an integer.\n",
      "  This is separate from the ipykernel package so we can avoid doing imports until\n"
     ]
    }
   ],
   "source": [
    "xgrid = np.linspace(xmin, xmax, (xmax-xmin)//factor)\n",
    "ygrid = np.linspace(ymin, ymax, (ymax-ymin)//factor)\n",
    "zgrid = np.linspace(zmin, zmax, (zmax-zmin)//factor)"
   ]
  },
  {
   "cell_type": "code",
   "execution_count": null,
   "metadata": {},
   "outputs": [],
   "source": []
  }
 ],
 "metadata": {
  "kernelspec": {
   "display_name": "uToolbox",
   "language": "python",
   "name": "utoolbox"
  },
  "language_info": {
   "codemirror_mode": {
    "name": "ipython",
    "version": 3
   },
   "file_extension": ".py",
   "mimetype": "text/x-python",
   "name": "python",
   "nbconvert_exporter": "python",
   "pygments_lexer": "ipython3",
   "version": "3.6.4"
  }
 },
 "nbformat": 4,
 "nbformat_minor": 2
}
