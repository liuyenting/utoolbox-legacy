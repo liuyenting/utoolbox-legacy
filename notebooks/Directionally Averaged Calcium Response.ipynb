{
 "cells": [
  {
   "cell_type": "code",
   "execution_count": null,
   "metadata": {},
   "outputs": [],
   "source": [
    "%gui qt\n",
    "\n",
    "import os\n",
    "import warnings\n",
    "\n",
    "import numpy as np\n",
    "import pandas as pd\n",
    "import matplotlib.pyplot as plt\n",
    "import progressbar\n",
    "from skimage.exposure import rescale_intensity\n",
    "import imageio\n",
    "\n",
    "import utoolbox.utils.files as fileutils\n",
    "from utoolbox.container import Raster\n",
    "from utoolbox.container.layouts import Volume, Image"
   ]
  },
  {
   "cell_type": "markdown",
   "metadata": {},
   "source": [
    "### Parameters"
   ]
  },
  {
   "cell_type": "code",
   "execution_count": null,
   "metadata": {},
   "outputs": [],
   "source": [
    "n_bins = 24"
   ]
  },
  {
   "cell_type": "markdown",
   "metadata": {},
   "source": [
    "### Environment presets"
   ]
  },
  {
   "cell_type": "code",
   "execution_count": null,
   "metadata": {},
   "outputs": [],
   "source": [
    "bins = np.linspace(-np.pi, np.pi, n_bins+1, dtype=np.float)"
   ]
  },
  {
   "cell_type": "markdown",
   "metadata": {},
   "source": [
    "### List files"
   ]
  },
  {
   "cell_type": "code",
   "execution_count": null,
   "metadata": {},
   "outputs": [],
   "source": [
    "source_folder = fileutils.get_local_directory()\n",
    "print(source_folder)\n",
    "file_list = fileutils.list_files(\n",
    "    source_folder, \n",
    "    name_filters=[fileutils.ExtensionFilter('tif')]\n",
    ")"
   ]
  },
  {
   "cell_type": "code",
   "execution_count": null,
   "metadata": {},
   "outputs": [],
   "source": [
    "mask_folder = os.path.join(source_folder, \"mask\")\n",
    "if not os.path.exists(mask_folder):\n",
    "    raise RuntimeError(\"no valid mask information found\")\n",
    "    \n",
    "contour_folder = os.path.join(source_folder, \"contour\")\n",
    "if not os.path.exists(contour_folder):\n",
    "    raise RuntimeError(\"no valid contour information found\")"
   ]
  },
  {
   "cell_type": "markdown",
   "metadata": {},
   "source": [
    "Generate output folder."
   ]
  },
  {
   "cell_type": "code",
   "execution_count": null,
   "metadata": {},
   "outputs": [],
   "source": [
    "intensity_folder = os.path.join(source_folder, 'intensity')\n",
    "if not os.path.exists(intensity_folder):\n",
    "    os.makedirs(intensity_folder)"
   ]
  },
  {
   "cell_type": "markdown",
   "metadata": {},
   "source": [
    "### Iterate over the volumes"
   ]
  },
  {
   "cell_type": "code",
   "execution_count": null,
   "metadata": {},
   "outputs": [],
   "source": [
    "def build_lut(contour):\n",
    "    shape = contour.shape\n",
    "    \n",
    "    # convert to index\n",
    "    contour = np.where(contour == True)\n",
    "    x = contour[1].astype(np.float)\n",
    "    y = contour[0].astype(np.float)\n",
    "    cx = np.mean(x)\n",
    "    cy = np.mean(y)\n",
    "    \n",
    "    gy, gx = np.mgrid[0:shape[0], 0:shape[1]]\n",
    "    gx = gx.astype(np.float) - cx\n",
    "    gy = gy.astype(np.float) - cy\n",
    "    \n",
    "    theta = np.arctan2(gy, gx)\n",
    "    \n",
    "    # cardinal direction\n",
    "    return np.digitize(theta, bins) - 1"
   ]
  },
  {
   "cell_type": "code",
   "execution_count": null,
   "metadata": {},
   "outputs": [],
   "source": [
    "intensity_map = {}"
   ]
  },
  {
   "cell_type": "code",
   "execution_count": null,
   "metadata": {},
   "outputs": [],
   "source": [
    "bar = progressbar.ProgressBar()\n",
    "frame = 0\n",
    "lut_extract = None\n",
    "for file_path in bar(file_list):\n",
    "    file_name = os.path.basename(file_path)\n",
    "\n",
    "    # load contour\n",
    "    contour_file_path = os.path.join(contour_folder, file_name)\n",
    "    contour = Raster(contour_file_path, layout=Image)\n",
    "    contour = rescale_intensity(contour, out_range=(0., 1.))\n",
    "\n",
    "    # identify pixel regions\n",
    "    lut = build_lut(contour)\n",
    "    if lut_extract is None:\n",
    "        lut_extract = lut\n",
    "    \n",
    "    # load raw data\n",
    "    with warnings.catch_warnings():\n",
    "        warnings.simplefilter(\"ignore\")\n",
    "        raw = Raster(file_path, layout=Volume)\n",
    "    raw = rescale_intensity(raw, out_range=(0., 1.))\n",
    "    # XY MIP\n",
    "    raw = np.amax(raw, axis=0)\n",
    "    \n",
    "    # mask unwanted regions\n",
    "    mask_file_path = os.path.join(mask_folder, file_name)\n",
    "    mask = Raster(mask_file_path, layout=Image)\n",
    "    raw[mask == 0] = 0.\n",
    "    \n",
    "    # estimate directional average\n",
    "    intensity = np.zeros(n_bins, dtype=np.float)\n",
    "    n_pixels, _ = np.histogram(lut, bins=n_bins)\n",
    "\n",
    "    for i in range(n_bins):\n",
    "        intensity[i] = raw[lut == i].sum()\n",
    "    intensity /= n_pixels\n",
    "    \n",
    "    # export the result\n",
    "    intensity_map[frame] = pd.DataFrame({\n",
    "        'intensity': intensity\n",
    "    })\n",
    "    frame += 1\n",
    "intensity_map = pd.concat(intensity_map.values(), axis=0, keys=intensity_map.keys())"
   ]
  },
  {
   "cell_type": "markdown",
   "metadata": {},
   "source": [
    "Get baseline."
   ]
  },
  {
   "cell_type": "code",
   "execution_count": null,
   "metadata": {},
   "outputs": [],
   "source": [
    "mean_i = intensity_map['intensity'].max()"
   ]
  },
  {
   "cell_type": "markdown",
   "metadata": {},
   "source": [
    "Calculate relative intensity."
   ]
  },
  {
   "cell_type": "code",
   "execution_count": null,
   "metadata": {},
   "outputs": [],
   "source": [
    "intensity_map['rel_intensity'] = intensity_map['intensity'] / mean_i"
   ]
  },
  {
   "cell_type": "markdown",
   "metadata": {},
   "source": [
    "Save result as CSV."
   ]
  },
  {
   "cell_type": "code",
   "execution_count": null,
   "metadata": {},
   "outputs": [],
   "source": [
    "intensity_map.to_csv(os.path.join(intensity_folder, 'summary.csv'))"
   ]
  }
 ],
 "metadata": {
  "kernelspec": {
   "display_name": "uToolbox",
   "language": "python",
   "name": "utoolbox"
  },
  "language_info": {
   "codemirror_mode": {
    "name": "ipython",
    "version": 3
   },
   "file_extension": ".py",
   "mimetype": "text/x-python",
   "name": "python",
   "nbconvert_exporter": "python",
   "pygments_lexer": "ipython3",
   "version": "3.6.4"
  }
 },
 "nbformat": 4,
 "nbformat_minor": 2
}
