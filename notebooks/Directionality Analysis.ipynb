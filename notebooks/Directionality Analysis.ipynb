{
 "cells": [
  {
   "cell_type": "code",
   "execution_count": null,
   "metadata": {},
   "outputs": [],
   "source": [
    "%gui qt\n",
    "\n",
    "import os\n",
    "import warnings\n",
    "\n",
    "import numpy as np\n",
    "import pandas as pd\n",
    "import matplotlib.pyplot as plt\n",
    "import progressbar\n",
    "from skimage.exposure import rescale_intensity\n",
    "from scipy.ndimage.measurements import center_of_mass\n",
    "import imageio\n",
    "\n",
    "import utoolbox.util.files as fileutils"
   ]
  },
  {
   "cell_type": "markdown",
   "metadata": {},
   "source": [
    "### Step 0\n",
    "Parameters"
   ]
  },
  {
   "cell_type": "code",
   "execution_count": null,
   "metadata": {},
   "outputs": [],
   "source": [
    "# number of bins\n",
    "n_bins = 24"
   ]
  },
  {
   "cell_type": "markdown",
   "metadata": {},
   "source": [
    "### Step 1\n",
    "Preset environment."
   ]
  },
  {
   "cell_type": "code",
   "execution_count": null,
   "metadata": {},
   "outputs": [],
   "source": [
    "# global progressbar utility\n",
    "bar = progressbar.ProgressBar()"
   ]
  },
  {
   "cell_type": "markdown",
   "metadata": {},
   "source": [
    "Grids"
   ]
  },
  {
   "cell_type": "code",
   "execution_count": null,
   "metadata": {},
   "outputs": [],
   "source": [
    "bins = np.linspace(-np.pi, np.pi, n_bins+1, dtype=np.float)"
   ]
  },
  {
   "cell_type": "markdown",
   "metadata": {},
   "source": [
    "### Step 2\n",
    "List files."
   ]
  },
  {
   "cell_type": "code",
   "execution_count": null,
   "metadata": {},
   "outputs": [],
   "source": [
    "source_folder = fileutils.get_local_directory()\n",
    "print(source_folder)\n",
    "file_list = fileutils.list_files(\n",
    "    source_folder, \n",
    "    name_filters=[fileutils.ExtensionFilter('tif')]\n",
    ")"
   ]
  },
  {
   "cell_type": "markdown",
   "metadata": {},
   "source": [
    "### Step 3\n",
    "Generate output folder."
   ]
  },
  {
   "cell_type": "code",
   "execution_count": null,
   "metadata": {},
   "outputs": [],
   "source": [
    "parent_dir = os.path.dirname(source_folder)\n",
    "direction_dir = os.path.join(parent_dir, 'direction_preview')\n",
    "if not os.path.exists(direction_dir):\n",
    "    os.makedirs(direction_dir)"
   ]
  },
  {
   "cell_type": "markdown",
   "metadata": {},
   "source": [
    "### Step 4\n",
    "Iterate over the contours for directionality analysis."
   ]
  },
  {
   "cell_type": "code",
   "execution_count": null,
   "metadata": {},
   "outputs": [],
   "source": [
    "def contour_to_extents(contour):\n",
    "    # convert to index\n",
    "    contour = np.where(contour == True)\n",
    "    x = contour[1].astype(np.float)\n",
    "    y = contour[0].astype(np.float)\n",
    "    cx = np.mean(x)\n",
    "    cy = np.mean(y)\n",
    "    \n",
    "    # convert to polar coordinate system\n",
    "    x -= cx\n",
    "    y -= cy\n",
    "    radius = np.sqrt(x**2 + y**2)\n",
    "    theta = np.arctan2(y, x)\n",
    "    \n",
    "    # cardinal direction\n",
    "    cardinal = np.digitize(theta, bins) - 1\n",
    "    \n",
    "    # directional distance, maximum\n",
    "    distance = np.zeros(n_bins, dtype=np.float)\n",
    "    for c, r in zip(cardinal, radius):\n",
    "        distance[c] = max(distance[c], r)\n",
    "    \n",
    "    return distance"
   ]
  },
  {
   "cell_type": "code",
   "execution_count": null,
   "metadata": {},
   "outputs": [],
   "source": [
    "def variations(curr_dist, prev_dist):\n",
    "    if prev_dist is None:\n",
    "        return np.zeros_like(curr_dist)\n",
    "    \n",
    "    velocity = curr_dist - prev_dist\n",
    "    \n",
    "    return velocity"
   ]
  },
  {
   "cell_type": "code",
   "execution_count": null,
   "metadata": {},
   "outputs": [],
   "source": [
    "prev_dist = None\n",
    "cardinal_map = {}\n",
    "frame = 0\n",
    "for file_path in bar(file_list):\n",
    "    with warnings.catch_warnings():\n",
    "        warnings.simplefilter(\"ignore\")\n",
    "        contour = imageio.imread(file_path)\n",
    "    contour = rescale_intensity(contour, out_range=(0., 1.))\n",
    "    \n",
    "    # update distance list\n",
    "    curr_dist = contour_to_extents(contour)\n",
    "    \n",
    "    # update velocity list\n",
    "    velocity = variations(curr_dist, prev_dist)\n",
    "    prev_dist = curr_dist\n",
    "    \n",
    "    cardinal_map[frame] = pd.DataFrame({\n",
    "        'distance': curr_dist,\n",
    "        'velocity': velocity\n",
    "    })\n",
    "    frame += 1\n",
    "\n",
    "# convert to DataFrame\n",
    "cardinal_map = pd.concat(cardinal_map.values(), axis=0, keys=cardinal_map.keys())"
   ]
  },
  {
   "cell_type": "markdown",
   "metadata": {},
   "source": [
    "Get baseline."
   ]
  },
  {
   "cell_type": "code",
   "execution_count": null,
   "metadata": {},
   "outputs": [],
   "source": [
    "mean_d = cardinal_map['distance'].max()\n",
    "mean_v = cardinal_map['velocity'].max()"
   ]
  },
  {
   "cell_type": "markdown",
   "metadata": {},
   "source": [
    "Calculate relative intensity."
   ]
  },
  {
   "cell_type": "code",
   "execution_count": null,
   "metadata": {},
   "outputs": [],
   "source": [
    "cardinal_map['rel_distance'] = cardinal_map['distance'] / mean_d\n",
    "cardinal_map['rel_velocity'] = cardinal_map['velocity'] / mean_d"
   ]
  },
  {
   "cell_type": "markdown",
   "metadata": {},
   "source": [
    "Delta distance from first frame."
   ]
  },
  {
   "cell_type": "code",
   "execution_count": null,
   "metadata": {},
   "outputs": [],
   "source": [
    "cardinal_map['d0_distance'] = cardinal_map['distance']\n",
    "\n",
    "for iframe in range(frame):\n",
    "    cardinal_map.loc[iframe, :]['d0_distance'] = \\\n",
    "        cardinal_map.loc[iframe, :]['d0_distance'].sub(cardinal_map.loc[0, :]['distance'], axis=0)"
   ]
  },
  {
   "cell_type": "code",
   "execution_count": null,
   "metadata": {},
   "outputs": [],
   "source": [
    "cardinal_map[12:36]"
   ]
  },
  {
   "cell_type": "markdown",
   "metadata": {},
   "source": [
    "Save result as CSV."
   ]
  },
  {
   "cell_type": "code",
   "execution_count": null,
   "metadata": {},
   "outputs": [],
   "source": [
    "cardinal_map.to_csv(os.path.join(direction_dir, 'summary.csv'))"
   ]
  }
 ],
 "metadata": {
  "kernelspec": {
   "display_name": "uToolbox",
   "language": "python",
   "name": "utoolbox"
  },
  "language_info": {
   "codemirror_mode": {
    "name": "ipython",
    "version": 3
   },
   "file_extension": ".py",
   "mimetype": "text/x-python",
   "name": "python",
   "nbconvert_exporter": "python",
   "pygments_lexer": "ipython3",
   "version": "3.6.4"
  }
 },
 "nbformat": 4,
 "nbformat_minor": 2
}
