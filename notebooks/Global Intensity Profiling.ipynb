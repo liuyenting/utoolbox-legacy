{
 "cells": [
  {
   "cell_type": "code",
   "execution_count": null,
   "metadata": {},
   "outputs": [],
   "source": [
    "%gui qt\n",
    "\n",
    "import os\n",
    "import warnings\n",
    "\n",
    "import numpy as np\n",
    "import pandas as pd\n",
    "import matplotlib.pyplot as plt\n",
    "import progressbar\n",
    "\n",
    "import utoolbox.util.files as fileutils\n",
    "from utoolbox.container import Volume\n",
    "\n",
    "# adjust plot size\n",
    "plt.rcParams['figure.figsize'] = (24, 9)\n",
    "# global progressbar util\n",
    "bar = progressbar.ProgressBar()"
   ]
  },
  {
   "cell_type": "markdown",
   "metadata": {},
   "source": [
    "### Step 1\n",
    "Load files."
   ]
  },
  {
   "cell_type": "code",
   "execution_count": null,
   "metadata": {},
   "outputs": [],
   "source": [
    "source_folder = fileutils.get_local_directory()\n",
    "print(source_folder)\n",
    "file_list = fileutils.list_files(source_folder, name_filters=[fileutils.ExtensionFilter('tif')])"
   ]
  },
  {
   "cell_type": "markdown",
   "metadata": {},
   "source": [
    "### Step 2\n",
    "Iterate over the volumes for statistics."
   ]
  },
  {
   "cell_type": "code",
   "execution_count": null,
   "metadata": {},
   "outputs": [],
   "source": [
    "ts_avg = []\n",
    "ts_std = []\n",
    "for file_path in bar(file_list):\n",
    "    with warnings.catch_warnings():\n",
    "        warnings.simplefilter(\"ignore\")\n",
    "        data = Volume(file_path)\n",
    "    avg, std = np.mean(data), np.std(data)\n",
    "    ts_avg.append(avg)\n",
    "    ts_std.append(std)"
   ]
  },
  {
   "cell_type": "markdown",
   "metadata": {},
   "source": [
    "### Step 3\n",
    "Save the result and plot a preview."
   ]
  },
  {
   "cell_type": "code",
   "execution_count": null,
   "metadata": {},
   "outputs": [],
   "source": [
    "df = pd.DataFrame({'Mean': ts_avg, 'SD': ts_std})\n",
    "df.to_csv(os.path.join(source_folder, 'intensity_profile.csv'))"
   ]
  },
  {
   "cell_type": "code",
   "execution_count": null,
   "metadata": {},
   "outputs": [],
   "source": [
    "ts = np.arange(len(file_list))\n",
    "plt.plot(ts, ts_avg, marker='o')\n",
    "plt.xlabel('Frame')\n",
    "plt.ylabel('Average Intensity')"
   ]
  },
  {
   "cell_type": "code",
   "execution_count": null,
   "metadata": {},
   "outputs": [],
   "source": [
    "from utoolbox.analysis.calcium import f_f0\n",
    "\n",
    "result = f_f0(ts_avg,  (0, 3))"
   ]
  },
  {
   "cell_type": "code",
   "execution_count": null,
   "metadata": {},
   "outputs": [],
   "source": [
    "plt.plot(ts, result, marker='o')\n",
    "plt.xlabel('Frame')\n",
    "plt.ylabel('F/F0')"
   ]
  },
  {
   "cell_type": "code",
   "execution_count": null,
   "metadata": {},
   "outputs": [],
   "source": []
  }
 ],
 "metadata": {
  "kernelspec": {
   "display_name": "uToolbox",
   "language": "python",
   "name": "utoolbox"
  },
  "language_info": {
   "codemirror_mode": {
    "name": "ipython",
    "version": 3
   },
   "file_extension": ".py",
   "mimetype": "text/x-python",
   "name": "python",
   "nbconvert_exporter": "python",
   "pygments_lexer": "ipython3",
   "version": "3.6.4"
  }
 },
 "nbformat": 4,
 "nbformat_minor": 2
}
